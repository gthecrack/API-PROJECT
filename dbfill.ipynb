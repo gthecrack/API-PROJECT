{
 "cells": [
  {
   "cell_type": "code",
   "execution_count": 1,
   "metadata": {},
   "outputs": [],
   "source": [
    "import json\n",
    "from pymongo import MongoClient\n",
    "import random \n",
    "from bson import ObjectId\n",
    "import requests\n",
    "import pandas as pd"
   ]
  },
  {
   "cell_type": "code",
   "execution_count": 2,
   "metadata": {},
   "outputs": [
    {
     "name": "stdout",
     "output_type": "stream",
     "text": [
      "mongodb://localhost/quotesapi\n"
     ]
    }
   ],
   "source": [
    "dbName = \"quotesapi\"\n",
    "mongodbURL = f\"mongodb://localhost/{dbName}\"\n",
    "print(mongodbURL)\n",
    "client = MongoClient(mongodbURL, connectTimeoutMS=2000,serverSelectionTimeoutMS=2000)\n",
    "db = client.get_database()"
   ]
  },
  {
   "cell_type": "code",
   "execution_count": 3,
   "metadata": {},
   "outputs": [],
   "source": [
    "f = open(\"quotes.json\", encoding=\"utf8\")\n",
    "quotes_json = f.read()"
   ]
  },
  {
   "cell_type": "code",
   "execution_count": 4,
   "metadata": {},
   "outputs": [
    {
     "data": {
      "text/plain": [
       "'{\"Weird Al Yankovic\": [\\n    \"Alanis Morissette and I actually used to date. I especially liked it when we went to the movies.\",\\n    \"That\\'s something the kids should know about. Reading is a gateway to witchcraft and lesbianism.\",\\n    \"I wrote \\'Eat It\\' because I wanted to buy a house. It worked.\",\\n    \"Right now I\\'m listening to a lot of Top 40 music, because THAT\\'S MY JOB.\",\\n    \"If money can\\'t buy happiness, I guess I\\'ll have to rent it.\",\\n    \"My brothers and sisters all hated me \\'cause I was'"
      ]
     },
     "execution_count": 4,
     "metadata": {},
     "output_type": "execute_result"
    }
   ],
   "source": [
    "quotes_json[0:500]"
   ]
  },
  {
   "cell_type": "code",
   "execution_count": 5,
   "metadata": {},
   "outputs": [
    {
     "data": {
      "text/plain": [
       "dict_keys(['Weird Al Yankovic', 'AK-47', 'Abraham Lincoln', 'Adolf Hitler', 'Adolph Gottlieb', 'Advertising', 'Agatha Christie', 'Al Capone', 'Albert Einstein', 'Aldous Huxley', 'Alfred Hitchcock', 'Bon Jovi', 'Bono', 'C (programming language)', 'C. S. Lewis', 'Charles Manson', 'Coco Chanel', 'Donald Trump', 'Elon Musk', 'Elton John', 'Francis de Sales', 'Francisco Luís Gomes', 'Franz Kafka', 'Gabriel García Márquez', 'Garry Kasparov', 'George Frederick James Temple', 'George Galloway', 'Greed', 'H. P. Lovecraft', 'Infinity', 'Inflation', 'James K. Polk', 'James Legge', 'Kenneth Clark', 'Kenneth Grahame', 'L. Ron Hubbard', 'Marilyn Manson', 'Marilyn Monroe', 'Marlene Dietrich', 'Marlon Brando', 'Mike Scott (musician)', 'Mike Tyson', 'Neil Armstrong', 'Neil Bauman', 'Orson Welles', 'Osama bin Laden', 'Peter Shaffer', 'Peter Singer', 'Peter Sloterdijk', 'Richard Morgan', 'Richard Nixon', 'Sarah Palin', 'Sarah Silverman'])"
      ]
     },
     "execution_count": 5,
     "metadata": {},
     "output_type": "execute_result"
    }
   ],
   "source": [
    "path='quotes.json'\n",
    "with open(path,'r') as json_file:\n",
    "    data=json.loads(quotes_json)\n",
    "data.keys()"
   ]
  },
  {
   "cell_type": "code",
   "execution_count": 6,
   "metadata": {},
   "outputs": [],
   "source": [
    "users=list(data.keys())\n",
    "literal_quotes=list(data.values())\n",
    "chat_ids=[1,2,3,4,5,6,7,8,9]"
   ]
  },
  {
   "cell_type": "code",
   "execution_count": 7,
   "metadata": {},
   "outputs": [],
   "source": [
    "list_of_users=[]\n",
    "for i,user in enumerate(users):\n",
    "    dic={'user_name':random.choice(users),\n",
    "         'chats_list':[]\n",
    "    \n",
    "         }\n",
    "    list_of_users.append(dic)\n",
    "users_ids=db.users.insert_many(list_of_users)"
   ]
  },
  {
   "cell_type": "code",
   "execution_count": 8,
   "metadata": {},
   "outputs": [
    {
     "data": {
      "text/plain": [
       "[ObjectId('5f0d5091ee56f383cbd47ca8'),\n",
       " ObjectId('5f0d5091ee56f383cbd47ca9'),\n",
       " ObjectId('5f0d5091ee56f383cbd47caa'),\n",
       " ObjectId('5f0d5091ee56f383cbd47cab'),\n",
       " ObjectId('5f0d5091ee56f383cbd47cac')]"
      ]
     },
     "execution_count": 8,
     "metadata": {},
     "output_type": "execute_result"
    }
   ],
   "source": [
    "users_ids.inserted_ids[0:5]"
   ]
  },
  {
   "cell_type": "code",
   "execution_count": 9,
   "metadata": {},
   "outputs": [],
   "source": [
    "list_of_chats=[]\n",
    "for chat in chat_ids:\n",
    "    dic={'chat_name':random.choice(chat_ids),\n",
    "         'users_list':[random.choice(list(users_ids.inserted_ids)) for i in range(50)],\n",
    "         'messages_list':[]\n",
    "    \n",
    "     }\n",
    "    list_of_chats.append(dic)\n",
    "    \n",
    "chats_ids=db.chats.insert_many(list_of_chats)"
   ]
  },
  {
   "cell_type": "code",
   "execution_count": 10,
   "metadata": {},
   "outputs": [
    {
     "data": {
      "text/plain": [
       "[ObjectId('5f0d5091ee56f383cbd47cdd'),\n",
       " ObjectId('5f0d5091ee56f383cbd47cde'),\n",
       " ObjectId('5f0d5091ee56f383cbd47cdf'),\n",
       " ObjectId('5f0d5091ee56f383cbd47ce0'),\n",
       " ObjectId('5f0d5091ee56f383cbd47ce1')]"
      ]
     },
     "execution_count": 10,
     "metadata": {},
     "output_type": "execute_result"
    }
   ],
   "source": [
    "chats_ids.inserted_ids[0:5]"
   ]
  },
  {
   "cell_type": "code",
   "execution_count": 17,
   "metadata": {},
   "outputs": [],
   "source": [
    "username = 'Pablo'\n",
    "url = f\"http://localhost:5000/user/create/{username}\"\n",
    "res = requests.get(url)"
   ]
  },
  {
   "cell_type": "code",
   "execution_count": 16,
   "metadata": {},
   "outputs": [
    {
     "name": "stdout",
     "output_type": "stream",
     "text": [
      "<Response [200]>\n"
     ]
    }
   ],
   "source": [
    "print(res)"
   ]
  },
  {
   "cell_type": "code",
   "execution_count": 19,
   "metadata": {},
   "outputs": [
    {
     "name": "stdout",
     "output_type": "stream",
     "text": [
      "<Response [500]>\n"
     ]
    },
    {
     "data": {
      "text/plain": [
       "<bound method Response.json of <Response [500]>>"
      ]
     },
     "execution_count": 19,
     "metadata": {},
     "output_type": "execute_result"
    }
   ],
   "source": [
    "chatname = \"Shots\"\n",
    "# Adding Greed, and Albert Einstein to group called Shots\n",
    "list1 = [\"5f0d5091ee56f383cbd47cd6\",\"5f0d5091ee56f383cbd47cdb\"]\n",
    "url = f\"http://localhost:5000/chat/create?ids={list1[0]}&ids={list1[1]}&name={chatname}\"\n",
    "res = requests.get(url)\n",
    "print(res)\n",
    "res.json"
   ]
  },
  {
   "cell_type": "code",
   "execution_count": 21,
   "metadata": {},
   "outputs": [
    {
     "data": {
      "text/plain": [
       "'Beware an act of avarice; it is bad and incurable disease.'"
      ]
     },
     "execution_count": 21,
     "metadata": {},
     "output_type": "execute_result"
    }
   ],
   "source": [
    "text = data['Greed'][1]\n",
    "text"
   ]
  },
  {
   "cell_type": "code",
   "execution_count": 25,
   "metadata": {},
   "outputs": [
    {
     "name": "stdout",
     "output_type": "stream",
     "text": [
      "<Response [404]>\n"
     ]
    }
   ],
   "source": [
    "url = f\"http://localhost:5000/chat/5f0d5091ee56f383cbd47cdd/addmessage?user_id=5f0d5091ee56f383cbd47cd6&text={text}\"\n",
    "res = requests.get(url)\n",
    "print(res)"
   ]
  },
  {
   "cell_type": "code",
   "execution_count": 26,
   "metadata": {},
   "outputs": [
    {
     "name": "stdout",
     "output_type": "stream",
     "text": [
      "<Response [404]>\n"
     ]
    },
    {
     "data": {
      "text/plain": [
       "<bound method Response.json of <Response [404]>>"
      ]
     },
     "execution_count": 26,
     "metadata": {},
     "output_type": "execute_result"
    }
   ],
   "source": [
    "url = f\"http://localhost:5000/chat/5f0cb76e5ec1f0c52abef22e/list\"\n",
    "res = requests.get(url)\n",
    "print(res)\n",
    "res.json"
   ]
  },
  {
   "cell_type": "code",
   "execution_count": null,
   "metadata": {},
   "outputs": [],
   "source": []
  }
 ],
 "metadata": {
  "kernelspec": {
   "display_name": "Python 3",
   "language": "python",
   "name": "python3"
  },
  "language_info": {
   "codemirror_mode": {
    "name": "ipython",
    "version": 3
   },
   "file_extension": ".py",
   "mimetype": "text/x-python",
   "name": "python",
   "nbconvert_exporter": "python",
   "pygments_lexer": "ipython3",
   "version": "3.8.3"
  }
 },
 "nbformat": 4,
 "nbformat_minor": 4
}
